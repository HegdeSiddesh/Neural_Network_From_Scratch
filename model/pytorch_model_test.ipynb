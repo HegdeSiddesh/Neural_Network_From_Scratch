{
  "cells": [
    {
      "cell_type": "markdown",
      "metadata": {
        "id": "QYGYN2mWj5z7"
      },
      "source": [
        "# Simple Neural Network Implementation using Pytorch\n",
        "\n",
        "Objectives :\n",
        "1. Load dataset using Pytorch Dataset utilities package\n",
        "2. Create the NN architecture using pytorch modules\n",
        "3. Train the model on the dataset and report performance"
      ]
    },
    {
      "cell_type": "code",
      "execution_count": 26,
      "metadata": {
        "id": "eVrxGDoNj1tQ"
      },
      "outputs": [],
      "source": [
        "import torch.nn as nn #Superclass module for nn\n",
        "import torch.nn.functional as F #Contains functions that are used in the neural network\n",
        "from torch.utils.data import Dataset, DataLoader\n",
        "import torch\n",
        "import pandas as pd\n",
        "import numpy as np\n",
        "from sklearn.preprocessing import OneHotEncoder, MinMaxScaler, normalize"
      ]
    },
    {
      "cell_type": "code",
      "execution_count": 27,
      "metadata": {
        "id": "fUrn78Zrj5Tc"
      },
      "outputs": [],
      "source": [
        "labels = pd.read_csv('/content/drive/MyDrive/Colab projects/Neural_Network_From_Scratch/data/Labels.csv')\n",
        "data = pd.read_csv('/content/drive/MyDrive/Colab projects/Neural_Network_From_Scratch/data/Data.csv')"
      ]
    },
    {
      "cell_type": "code",
      "execution_count": 28,
      "metadata": {
        "id": "mnr4uc9bjlpq"
      },
      "outputs": [],
      "source": [
        "labels = labels.drop(columns=['Unnamed: 0'])\n",
        "data = data.drop(columns=['Unnamed: 0'])"
      ]
    },
    {
      "cell_type": "code",
      "execution_count": 29,
      "metadata": {
        "colab": {
          "base_uri": "https://localhost:8080/"
        },
        "id": "HUaI3Vr1kX_f",
        "outputId": "29b3ddd0-1fbf-47ca-c1b5-2e282c0b69b1"
      },
      "outputs": [
        {
          "data": {
            "text/plain": [
              "(13611, 16)"
            ]
          },
          "execution_count": 29,
          "metadata": {},
          "output_type": "execute_result"
        }
      ],
      "source": [
        "X_train = data.to_numpy()\n",
        "X_train.shape"
      ]
    },
    {
      "cell_type": "code",
      "execution_count": 30,
      "metadata": {
        "id": "uvrJI829jlps"
      },
      "outputs": [],
      "source": [
        "enc = OneHotEncoder()\n",
        "ohe_labels = enc.fit_transform(labels)"
      ]
    },
    {
      "cell_type": "code",
      "execution_count": 31,
      "metadata": {
        "colab": {
          "base_uri": "https://localhost:8080/"
        },
        "id": "0LOi2UvKjlpt",
        "outputId": "7368a192-f119-421d-e136-18f613c2c89d"
      },
      "outputs": [
        {
          "data": {
            "text/plain": [
              "(13611, 7)"
            ]
          },
          "execution_count": 31,
          "metadata": {},
          "output_type": "execute_result"
        }
      ],
      "source": [
        "y_train = ohe_labels.toarray()\n",
        "y_train.shape"
      ]
    },
    {
      "cell_type": "markdown",
      "metadata": {
        "id": "ke2y6XRxoTx_"
      },
      "source": [
        "### Normalizing values since they are very large\n",
        "\n"
      ]
    },
    {
      "cell_type": "code",
      "execution_count": 32,
      "metadata": {
        "id": "xqwp0sL3oSBq"
      },
      "outputs": [],
      "source": [
        "X_train_norm = normalize(X_train)"
      ]
    },
    {
      "cell_type": "code",
      "execution_count": 33,
      "metadata": {
        "id": "Hs5cxYk3IEjd"
      },
      "outputs": [],
      "source": [
        "mms = MinMaxScaler()\n",
        "X_train_mms = mms.fit_transform(X_train)"
      ]
    },
    {
      "cell_type": "code",
      "execution_count": 34,
      "metadata": {
        "colab": {
          "base_uri": "https://localhost:8080/"
        },
        "id": "IYRhUBEfpDa1",
        "outputId": "debf7d89-0117-4b7c-8d8d-eb19f096b021"
      },
      "outputs": [
        {
          "data": {
            "text/plain": [
              "array([[7.03029742e-01, 1.51101505e-02, 5.15426686e-03, ...,\n",
              "        7.79234997e-08, 2.06544515e-05, 2.47273322e-05],\n",
              "       [7.01629942e-01, 1.55791930e-02, 4.89643631e-03, ...,\n",
              "        8.70169590e-08, 2.22168288e-05, 2.43797806e-05],\n",
              "       [7.03284783e-01, 1.49396551e-02, 5.09453297e-03, ...,\n",
              "        7.29552158e-08, 1.97693069e-05, 2.39151808e-05],\n",
              "       ...,\n",
              "       [7.03435126e-01, 1.26755040e-02, 4.69980480e-03, ...,\n",
              "        3.15213021e-08, 1.12993687e-05, 1.66392441e-05],\n",
              "       [7.02684654e-01, 1.27339024e-02, 4.72462168e-03, ...,\n",
              "        3.08773945e-08, 1.11409985e-05, 1.65925813e-05],\n",
              "       [7.03342780e-01, 1.28833065e-02, 4.92389563e-03, ...,\n",
              "        2.73571463e-08, 1.02804693e-05, 1.66527297e-05]])"
            ]
          },
          "execution_count": 34,
          "metadata": {},
          "output_type": "execute_result"
        }
      ],
      "source": [
        "X_train_norm"
      ]
    },
    {
      "cell_type": "markdown",
      "metadata": {
        "id": "oH-dsAbsupFP"
      },
      "source": [
        "### Create Dataset and DataLoader class and objects"
      ]
    },
    {
      "cell_type": "code",
      "execution_count": 35,
      "metadata": {
        "id": "yzKJv3FUluAu"
      },
      "outputs": [],
      "source": [
        "class Data(Dataset):\n",
        "\n",
        "  def __init__(self, X, Y):\n",
        "    super().__init__()\n",
        "    self.X = torch.Tensor(X)\n",
        "    self.Y = torch.tensor(Y)\n",
        "\n",
        "  def __getitem__(self, index):\n",
        "    '''\n",
        "    Returns the ith datapoint\n",
        "    '''\n",
        "    return self.X[index], self.Y[index]\n",
        "\n",
        "  def __len__(self):\n",
        "    '''\n",
        "    Returns the length of the dataset\n",
        "    '''\n",
        "    return len(self.X)\n",
        "\n"
      ]
    },
    {
      "cell_type": "code",
      "execution_count": 36,
      "metadata": {
        "id": "IGEef_vynvlO"
      },
      "outputs": [],
      "source": [
        "dataset_train = Data(X_train_norm, y_train)"
      ]
    },
    {
      "cell_type": "code",
      "execution_count": 37,
      "metadata": {
        "colab": {
          "base_uri": "https://localhost:8080/"
        },
        "id": "bp5CIS8woqB_",
        "outputId": "4373add0-5570-4303-b3ab-aee48013203c"
      },
      "outputs": [
        {
          "name": "stdout",
          "output_type": "stream",
          "text": [
            "13611\n",
            "(tensor([7.0303e-01, 1.5110e-02, 5.1543e-03, 4.3053e-03, 2.9641e-05, 1.3613e-05,\n",
            "        7.1095e-01, 4.7077e-03, 1.8914e-05, 2.4483e-05, 2.3720e-05, 2.2614e-05,\n",
            "        1.8152e-07, 7.7924e-08, 2.0654e-05, 2.4727e-05]), tensor([0., 0., 0., 0., 0., 1., 0.], dtype=torch.float64))\n"
          ]
        }
      ],
      "source": [
        "#Testing the len and getitem functions\n",
        "print(len(dataset_train))\n",
        "print(dataset_train[0])"
      ]
    },
    {
      "cell_type": "code",
      "execution_count": 38,
      "metadata": {
        "id": "0Iy6_KhTn5z_"
      },
      "outputs": [],
      "source": [
        "#DataLoader is a pytorch iterable over the dataset\n",
        "\n",
        "train_dataloader = DataLoader(dataset_train, shuffle=True, batch_size=128, num_workers=2, drop_last=True)"
      ]
    },
    {
      "cell_type": "code",
      "execution_count": 39,
      "metadata": {
        "colab": {
          "base_uri": "https://localhost:8080/"
        },
        "id": "yJDy-iKCoUlo",
        "outputId": "46a6abc9-5be8-4d87-9211-31d2649bafee"
      },
      "outputs": [
        {
          "name": "stderr",
          "output_type": "stream",
          "text": [
            "/usr/lib/python3.10/multiprocessing/popen_fork.py:66: RuntimeWarning: os.fork() was called. os.fork() is incompatible with multithreaded code, and JAX is multithreaded, so this will likely lead to a deadlock.\n",
            "  self.pid = os.fork()\n"
          ]
        }
      ],
      "source": [
        "# next(iter(...)) catches the first batch of the data loader\n",
        "\n",
        "input, label = next(iter(train_dataloader))"
      ]
    },
    {
      "cell_type": "code",
      "execution_count": 40,
      "metadata": {
        "colab": {
          "base_uri": "https://localhost:8080/"
        },
        "id": "S13LDwT2oUHO",
        "outputId": "3b8bba0c-bf54-44f7-e6bc-87fbe03a7bc0"
      },
      "outputs": [
        {
          "data": {
            "text/plain": [
              "(torch.Size([128, 16]), torch.Size([128, 7]))"
            ]
          },
          "execution_count": 40,
          "metadata": {},
          "output_type": "execute_result"
        }
      ],
      "source": [
        "input.shape, label.shape"
      ]
    },
    {
      "cell_type": "markdown",
      "metadata": {
        "id": "Zdy8A7JGuvED"
      },
      "source": [
        "### Create the model architecture"
      ]
    },
    {
      "cell_type": "code",
      "execution_count": 41,
      "metadata": {
        "id": "pY7hjLs-uz-4"
      },
      "outputs": [],
      "source": [
        "class SimpleNeuralNetwork(nn.Module):\n",
        "\n",
        "  def __init__(self, input_size, output_size, layers):\n",
        "    super().__init__()\n",
        "    self.nn_layers = []\n",
        "    #First layer\n",
        "    self.nn_layers.append(nn.Linear(input_size, layers[0], bias=True))\n",
        "    self.nn_layers.append(nn.ReLU())\n",
        "\n",
        "    #Intermediate Layers\n",
        "    for idx in range(len(layers)-1):\n",
        "      self.nn_layers.append(nn.Linear(layers[idx], layers[idx+1], bias=True))\n",
        "      self.nn_layers.append(nn.ReLU())\n",
        "\n",
        "    #Last Layer\n",
        "    self.nn_layers.append(nn.Linear(layers[-1], output_size, bias=True))\n",
        "    self.nn_layers.append(nn.Softmax())\n",
        "\n",
        "    self.network = nn.Sequential(*self.nn_layers)\n",
        "\n",
        "  def forward(self, x):\n",
        "    output = self.network(x)\n",
        "    return output\n",
        "\n",
        "\n"
      ]
    },
    {
      "cell_type": "code",
      "execution_count": 42,
      "metadata": {
        "id": "D70354i5yZc6"
      },
      "outputs": [],
      "source": [
        "model = SimpleNeuralNetwork(len(X_train[0]), len(y_train[0]), layers = [32,64])"
      ]
    },
    {
      "cell_type": "code",
      "execution_count": 43,
      "metadata": {
        "colab": {
          "base_uri": "https://localhost:8080/"
        },
        "id": "Sbdxeea3y3bN",
        "outputId": "9f2804a4-4c05-4a75-966a-35ec73a2df56"
      },
      "outputs": [
        {
          "data": {
            "text/plain": [
              "SimpleNeuralNetwork(\n",
              "  (network): Sequential(\n",
              "    (0): Linear(in_features=16, out_features=32, bias=True)\n",
              "    (1): ReLU()\n",
              "    (2): Linear(in_features=32, out_features=64, bias=True)\n",
              "    (3): ReLU()\n",
              "    (4): Linear(in_features=64, out_features=7, bias=True)\n",
              "    (5): Softmax(dim=None)\n",
              "  )\n",
              ")"
            ]
          },
          "execution_count": 43,
          "metadata": {},
          "output_type": "execute_result"
        }
      ],
      "source": [
        "model"
      ]
    },
    {
      "cell_type": "code",
      "execution_count": 44,
      "metadata": {
        "colab": {
          "base_uri": "https://localhost:8080/"
        },
        "id": "mmb_dcyvzJnh",
        "outputId": "7f2809d9-9ce7-423c-8e94-9e6d92628797"
      },
      "outputs": [
        {
          "name": "stdout",
          "output_type": "stream",
          "text": [
            "Parameter : network.0.weight Shape : torch.Size([32, 16])\n",
            "Parameter : network.0.bias Shape : torch.Size([32])\n",
            "Parameter : network.2.weight Shape : torch.Size([64, 32])\n",
            "Parameter : network.2.bias Shape : torch.Size([64])\n",
            "Parameter : network.4.weight Shape : torch.Size([7, 64])\n",
            "Parameter : network.4.bias Shape : torch.Size([7])\n"
          ]
        }
      ],
      "source": [
        "for name, param in model.named_parameters():\n",
        "  print(f\"Parameter : {name} Shape : {param.shape}\")"
      ]
    },
    {
      "cell_type": "code",
      "execution_count": 45,
      "metadata": {
        "id": "2GGSE0rZ3wAU"
      },
      "outputs": [],
      "source": [
        "#Continue and add the loss and optimizers\n",
        "#Write the code and loop to run the epochs and perform backprop etc"
      ]
    },
    {
      "cell_type": "code",
      "execution_count": 46,
      "metadata": {
        "colab": {
          "base_uri": "https://localhost:8080/"
        },
        "id": "GjUO9FURvZJm",
        "outputId": "c2429219-d232-4522-8611-4c8122c88fcf"
      },
      "outputs": [
        {
          "name": "stdout",
          "output_type": "stream",
          "text": [
            "Is the GPU available? True\n"
          ]
        }
      ],
      "source": [
        "#Check GPU availability\n",
        "\n",
        "gpu_avail = torch.cuda.is_available()\n",
        "print(f\"Is the GPU available? {gpu_avail}\")"
      ]
    },
    {
      "cell_type": "code",
      "execution_count": 47,
      "metadata": {
        "colab": {
          "base_uri": "https://localhost:8080/"
        },
        "id": "Kl59yHTGveTL",
        "outputId": "4d96e60f-519f-4374-b0d5-87aee73ca562"
      },
      "outputs": [
        {
          "name": "stdout",
          "output_type": "stream",
          "text": [
            "Device : cuda\n"
          ]
        }
      ],
      "source": [
        "#device object which points to the GPU if present, else CPU\n",
        "device = torch.device(\"cuda\") if torch.cuda.is_available() else torch.device(\"cpu\")\n",
        "print(f\"Device : {device}\")"
      ]
    },
    {
      "cell_type": "code",
      "execution_count": 60,
      "metadata": {
        "id": "RqXRaBAJwAna"
      },
      "outputs": [],
      "source": [
        "#Loss module\n",
        "\n",
        "loss_fn = nn.CrossEntropyLoss()\n",
        "\n",
        "#Optimizer module\n",
        "\n",
        "optimizer = torch.optim.SGD(model.parameters(), lr=0.0001)"
      ]
    },
    {
      "cell_type": "markdown",
      "metadata": {
        "id": "EpDX0ijyy2ZH"
      },
      "source": [
        "## Model training\n",
        "\n",
        "1. Push all data and model parameters to the device of our choice (GPU if available).\n",
        "2. 5 steps of training : load a batch, obtain the predictions, calculate the loss, backpropagate, and update.\n"
      ]
    },
    {
      "cell_type": "code",
      "execution_count": 49,
      "metadata": {
        "colab": {
          "base_uri": "https://localhost:8080/"
        },
        "id": "HOeO5gV7ytTy",
        "outputId": "62502f1a-c529-465c-fd85-8e5b864d50c1"
      },
      "outputs": [
        {
          "data": {
            "text/plain": [
              "SimpleNeuralNetwork(\n",
              "  (network): Sequential(\n",
              "    (0): Linear(in_features=16, out_features=32, bias=True)\n",
              "    (1): ReLU()\n",
              "    (2): Linear(in_features=32, out_features=64, bias=True)\n",
              "    (3): ReLU()\n",
              "    (4): Linear(in_features=64, out_features=7, bias=True)\n",
              "    (5): Softmax(dim=None)\n",
              "  )\n",
              ")"
            ]
          },
          "execution_count": 49,
          "metadata": {},
          "output_type": "execute_result"
        }
      ],
      "source": [
        "model.to(device)"
      ]
    },
    {
      "cell_type": "code",
      "execution_count": 65,
      "metadata": {
        "id": "wRkgqendzciQ"
      },
      "outputs": [],
      "source": [
        "#Ensure to set model in training mode (model.train()), so that certain NN modules like BatchNorm and Dropout function accordingly (Dropout is not used during test time)\n",
        "\n",
        "def train_model(model, data_loader_train, loss_fn, optimizer, epochs=100):\n",
        "  model.train()\n",
        "\n",
        "  for epoch in range(epochs):\n",
        "    for data,labels in data_loader_train:\n",
        "\n",
        "      data = data.to(device)\n",
        "      labels = labels.to(device)\n",
        "\n",
        "      #NOT model.forward()\n",
        "      preds = model(data)\n",
        "      #preds = preds.squeeze(dim=1)\n",
        "\n",
        "      #Loss computation. (Just send predicted and true values)\n",
        "      loss = loss_fn(preds, labels)\n",
        "\n",
        "      #print(f\"Epoch : {epoch} Loss : {loss.item()}\")\n",
        "\n",
        "      #Before backward propagation, ensure that all gradients are set to 0\n",
        "      optimizer.zero_grad()\n",
        "\n",
        "      #Compute the backward propagation to get the gradients\n",
        "      loss.backward()\n",
        "\n",
        "      #Compute the new parameter values based on gradients\n",
        "      optimizer.step()\n"
      ]
    },
    {
      "cell_type": "code",
      "execution_count": 67,
      "metadata": {
        "id": "wjNn6c4j7O4z"
      },
      "outputs": [],
      "source": [
        "train_model(model, train_dataloader, loss_fn, optimizer, 100)"
      ]
    },
    {
      "cell_type": "code",
      "execution_count": 80,
      "metadata": {
        "id": "H-5XTtd3Dvus"
      },
      "outputs": [],
      "source": [
        "def test_model(model, data_loader):\n",
        "  model.eval()\n",
        "  total_count = 0\n",
        "  correct_count = 0\n",
        "  for data, label in data_loader:\n",
        "    data = data.to(device)\n",
        "    label = label.to(device)\n",
        "\n",
        "    preds = model(data)\n",
        "\n",
        "    correct_count += (preds.argmax(axis=1)==label.argmax(axis=1)).sum()\n",
        "    total_count += data.shape[0]\n",
        "\n",
        "  print(total_count)\n",
        "  print(correct_count)\n",
        "  return (correct_count/total_count)"
      ]
    },
    {
      "cell_type": "code",
      "execution_count": 81,
      "metadata": {
        "colab": {
          "base_uri": "https://localhost:8080/"
        },
        "id": "ottOc3vREibO",
        "outputId": "3a96fbdb-6fe8-419a-d64d-552866f7c05c"
      },
      "outputs": [
        {
          "name": "stderr",
          "output_type": "stream",
          "text": [
            "/usr/lib/python3.10/multiprocessing/popen_fork.py:66: RuntimeWarning: os.fork() was called. os.fork() is incompatible with multithreaded code, and JAX is multithreaded, so this will likely lead to a deadlock.\n",
            "  self.pid = os.fork()\n",
            "/usr/local/lib/python3.10/dist-packages/torch/nn/modules/module.py:1511: UserWarning: Implicit dimension choice for softmax has been deprecated. Change the call to include dim=X as an argument.\n",
            "  return self._call_impl(*args, **kwargs)\n",
            "/usr/lib/python3.10/multiprocessing/popen_fork.py:66: RuntimeWarning: os.fork() was called. os.fork() is incompatible with multithreaded code, and JAX is multithreaded, so this will likely lead to a deadlock.\n",
            "  self.pid = os.fork()\n"
          ]
        },
        {
          "name": "stdout",
          "output_type": "stream",
          "text": [
            "13568\n",
            "tensor(3534, device='cuda:0')\n"
          ]
        },
        {
          "data": {
            "text/plain": [
              "0.2604658007621765"
            ]
          },
          "execution_count": 81,
          "metadata": {},
          "output_type": "execute_result"
        }
      ],
      "source": [
        "test_model(model, train_dataloader).item()"
      ]
    }
  ],
  "metadata": {
    "accelerator": "GPU",
    "colab": {
      "gpuType": "T4",
      "provenance": []
    },
    "kernelspec": {
      "display_name": "Python 3",
      "name": "python3"
    },
    "language_info": {
      "name": "python"
    }
  },
  "nbformat": 4,
  "nbformat_minor": 0
}
