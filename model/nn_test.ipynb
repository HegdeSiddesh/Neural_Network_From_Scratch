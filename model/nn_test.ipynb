{
 "cells": [
  {
   "cell_type": "code",
   "execution_count": 73,
   "metadata": {},
   "outputs": [],
   "source": [
    "import pandas as pd\n",
    "import numpy as np\n",
    "from sklearn.preprocessing import OneHotEncoder\n",
    "import warnings\n",
    "warnings.filterwarnings(\"ignore\")\n",
    "\n",
    "np.random.seed(132)"
   ]
  },
  {
   "cell_type": "code",
   "execution_count": 74,
   "metadata": {},
   "outputs": [],
   "source": [
    "labels = pd.read_csv('../data/Labels.csv')\n",
    "data = pd.read_csv('../data/Data.csv')"
   ]
  },
  {
   "cell_type": "code",
   "execution_count": 75,
   "metadata": {},
   "outputs": [
    {
     "data": {
      "text/plain": [
       "(13611, 17)"
      ]
     },
     "execution_count": 75,
     "metadata": {},
     "output_type": "execute_result"
    }
   ],
   "source": [
    "X_train = data.to_numpy()\n",
    "X_train.shape"
   ]
  },
  {
   "cell_type": "code",
   "execution_count": 76,
   "metadata": {},
   "outputs": [],
   "source": [
    "labels = labels.drop(columns=['Unnamed: 0'])\n",
    "data = data.drop(columns=['Unnamed: 0'])"
   ]
  },
  {
   "cell_type": "code",
   "execution_count": 77,
   "metadata": {},
   "outputs": [],
   "source": [
    "enc = OneHotEncoder()\n",
    "ohe_labels = enc.fit_transform(labels)"
   ]
  },
  {
   "cell_type": "code",
   "execution_count": 78,
   "metadata": {},
   "outputs": [
    {
     "data": {
      "text/plain": [
       "(13611, 7)"
      ]
     },
     "execution_count": 78,
     "metadata": {},
     "output_type": "execute_result"
    }
   ],
   "source": [
    "y_train = ohe_labels.toarray()\n",
    "y_train.shape"
   ]
  },
  {
   "cell_type": "code",
   "execution_count": 79,
   "metadata": {},
   "outputs": [],
   "source": [
    "def sigmoid(x):\n",
    "    #input is a matrix. Return element wise sigmoid\n",
    "    return 1/(1+np.exp(-x))\n",
    "\n",
    "def softmax(x):\n",
    "    return np.exp(x)/(np.sum(np.exp(x)))"
   ]
  },
  {
   "cell_type": "code",
   "execution_count": 80,
   "metadata": {},
   "outputs": [],
   "source": [
    "class NeuralNetworkClassifier():\n",
    "\n",
    "    def __init__(self, layer_weights=[32,64]):\n",
    "        self.layers = layer_weights\n",
    "        self.output_layer = None\n",
    "        self.input_layer = None\n",
    "\n",
    "        #Weights and biases are to be stored as KV pairs\n",
    "        self.W = {}\n",
    "        self.B = {}\n",
    "\n",
    "        #Intermediate computations to be stored as KV pairs\n",
    "        self.A = {}\n",
    "        self.H = {}\n",
    "\n",
    "\n",
    "    '''\n",
    "    Mandatory call for fitting training data on the model.\n",
    "    Required step since input and output layer size are unknown.\n",
    "    '''\n",
    "    def fit(self, X, Y):\n",
    "\n",
    "        self.input_layer = X.shape[1] #num features\n",
    "        self.output_layer = Y.shape[1] #num classes\n",
    "\n",
    "        self.layers = [self.input_layer] + self.layers + [self.output_layer]\n",
    "\n",
    "        print(f\"Neural network layer sizes : {self.layers}\")\n",
    "              \n",
    "        #initialize weights for the layers\n",
    "        self.initialize_weights()\n",
    "\n",
    "        #Call forward propagation to train model\n",
    "        preds = []\n",
    "        for x,y in zip(X,Y):\n",
    "            self.forward_propagation(x)\n",
    "            preds.append(self.H[(len(self.layers)-1)])\n",
    "\n",
    "        return preds\n",
    "\n",
    "    '''\n",
    "    Initialize the weights and biases once the layer sizes are known\n",
    "    '''\n",
    "    def initialize_weights(self):\n",
    "\n",
    "        for layer_num in range(1,len(self.layers)):\n",
    "            self.W[layer_num] = np.random.randn(self.layers[layer_num-1], self.layers[layer_num])\n",
    "            print(f\"Shape of W{layer_num} = {self.W[layer_num].shape }\")\n",
    "            self.B[layer_num] = np.random.randn(self.layers[layer_num])\n",
    "            print(f\"Shape of B{layer_num} = {self.B[layer_num].shape }\")\n",
    "\n",
    "\n",
    "    \n",
    "    def forward_propagation(self, X):\n",
    "\n",
    "        #x is a single datapoint (num_feats, )\n",
    "        \n",
    "        #Check if num features are accurate\n",
    "        if X.shape[0] != self.input_layer:\n",
    "            print(f\"Invalid shape. {X.shape[1]} does not match {self.input_layer}\")\n",
    "            return\n",
    "        \n",
    "        #reshaped to have 1 row and all elements as column values (hence -1)\n",
    "        self.H[0] = X.reshape(1,-1)\n",
    "\n",
    "        #Repeat from layer 1 till layer l-1 (for final layer the output activation will change, so that will be done separately)\n",
    "        #For [i/p, l1, l2, o/p] sequence of layers, this loop runs for l1 and l2\n",
    "        for layer in range(1, len(self.layers)-1):\n",
    "            self.A[layer] = np.matmul(self.H[(layer-1)],self.W[layer]) + self.B[(layer)]\n",
    "            self.H[layer] = sigmoid(self.A[layer]) #compute sigmoid or orher activation here\n",
    "        \n",
    "        #Reached output layer. Calculate A[final layer] followed by H[final layer]\n",
    "        self.A[(len(self.layers)-1)] = np.matmul(self.H[(len(self.layers)-2)],self.W[(len(self.layers)-1)]) + self.B[(len(self.layers)-1)]\n",
    "        self.H[(len(self.layers)-1)] = softmax(self.A[(len(self.layers)-1)])\n",
    "\n",
    "        return \n"
   ]
  },
  {
   "cell_type": "code",
   "execution_count": 81,
   "metadata": {},
   "outputs": [
    {
     "name": "stdout",
     "output_type": "stream",
     "text": [
      "Neural network layer sizes : [17, 32, 64, 7]\n",
      "Shape of W1 = (17, 32)\n",
      "Shape of B1 = (32,)\n",
      "Shape of W2 = (32, 64)\n",
      "Shape of B2 = (64,)\n",
      "Shape of W3 = (64, 7)\n",
      "Shape of B3 = (7,)\n"
     ]
    }
   ],
   "source": [
    "nn = NeuralNetworkClassifier([32, 64])\n",
    "sample_preds = nn.fit(X_train, y_train)"
   ]
  },
  {
   "cell_type": "code",
   "execution_count": 88,
   "metadata": {},
   "outputs": [
    {
     "data": {
      "text/plain": [
       "[array([[7.80431311e-05, 9.99915224e-01, 1.42138979e-08, 1.54798162e-06,\n",
       "         2.87227341e-06, 1.81234640e-10, 2.29867598e-06]]),\n",
       " array([[7.80431311e-05, 9.99915224e-01, 1.42138979e-08, 1.54798162e-06,\n",
       "         2.87227341e-06, 1.81234640e-10, 2.29867598e-06]]),\n",
       " array([[7.80431311e-05, 9.99915224e-01, 1.42138979e-08, 1.54798162e-06,\n",
       "         2.87227341e-06, 1.81234640e-10, 2.29867598e-06]]),\n",
       " array([[7.80431311e-05, 9.99915224e-01, 1.42138979e-08, 1.54798162e-06,\n",
       "         2.87227341e-06, 1.81234640e-10, 2.29867598e-06]]),\n",
       " array([[7.80431311e-05, 9.99915224e-01, 1.42138979e-08, 1.54798162e-06,\n",
       "         2.87227341e-06, 1.81234640e-10, 2.29867598e-06]])]"
      ]
     },
     "execution_count": 88,
     "metadata": {},
     "output_type": "execute_result"
    }
   ],
   "source": [
    "sample_preds[0:5]"
   ]
  },
  {
   "cell_type": "code",
   "execution_count": 87,
   "metadata": {},
   "outputs": [
    {
     "data": {
      "text/plain": [
       "1.0000000000000002"
      ]
     },
     "execution_count": 87,
     "metadata": {},
     "output_type": "execute_result"
    }
   ],
   "source": [
    "#Check if softmax works as expected (each row sums to 1)\n",
    "np.sum(sample_preds)/len(sample_preds)"
   ]
  }
 ],
 "metadata": {
  "kernelspec": {
   "display_name": "siddesh",
   "language": "python",
   "name": "python3"
  },
  "language_info": {
   "codemirror_mode": {
    "name": "ipython",
    "version": 3
   },
   "file_extension": ".py",
   "mimetype": "text/x-python",
   "name": "python",
   "nbconvert_exporter": "python",
   "pygments_lexer": "ipython3",
   "version": "3.9.18"
  }
 },
 "nbformat": 4,
 "nbformat_minor": 2
}
